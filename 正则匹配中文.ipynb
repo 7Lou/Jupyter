{
 "cells": [
  {
   "cell_type": "code",
   "execution_count": 44,
   "metadata": {},
   "outputs": [
    {
     "name": "stdout",
     "output_type": "stream",
     "text": [
      "前多少个词频：20\n",
      "[('一个', 241), ('我们', 202), ('微信', 98), ('用户', 83), ('产品', 77), ('很多', 76), ('这个', 67), ('自己', 57), ('没有', 55), ('大家', 51), ('因为', 50), ('其实', 49), ('可以', 47), ('这样', 45), ('朋友圈', 45), ('程序', 45), ('社交', 42), ('不是', 41), ('所以', 41), ('但是', 40)]\n"
     ]
    }
   ],
   "source": [
    "import re,jieba,collections\n",
    "\n",
    "\n",
    "def ch_sequence(text,i):\n",
    "    '''\n",
    "    功能：统计中文词频。\n",
    "    参数：文本、前多少个词频\n",
    "    \n",
    "    '''\n",
    "    pattern = '[\\u4e00-\\u9fa5]+'   #匹配中文字符\n",
    "    result = re.findall(pattern,text)\n",
    "    #print(result)\n",
    "    text = ''.join(result)\n",
    "    seg_list = jieba.lcut(text, cut_all=True)#全模式\n",
    "    \n",
    "    seg_list = jieba.cut(text, cut_all=False)#精准模式，去除单个汉字\n",
    "    seg_list_1 = []\n",
    "    for hz in seg_list:\n",
    "        if len(hz) == 1:\n",
    "            pass\n",
    "        else:\n",
    "            seg_list_1.append(hz)\n",
    "    #print(seg_list_1)\n",
    "\n",
    "    return collections.Counter(seg_list_1).most_common(i)\n",
    "\n",
    "if __name__ == \"__main__\":\n",
    "    with open('/Users/shining/Documents/未命名文件夹/test.txt','r') as f:\n",
    "        text = f.read()\n",
    "    i = int(input('前多少个词频：'))\n",
    "    print(ch_sequence(text,i))\n",
    "    "
   ]
  }
 ],
 "metadata": {
  "kernelspec": {
   "display_name": "Python 3",
   "language": "python",
   "name": "python3"
  },
  "language_info": {
   "codemirror_mode": {
    "name": "ipython",
    "version": 3
   },
   "file_extension": ".py",
   "mimetype": "text/x-python",
   "name": "python",
   "nbconvert_exporter": "python",
   "pygments_lexer": "ipython3",
   "version": "3.7.4"
  }
 },
 "nbformat": 4,
 "nbformat_minor": 2
}
