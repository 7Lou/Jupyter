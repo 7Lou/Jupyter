{
 "cells": [
  {
   "cell_type": "markdown",
   "metadata": {},
   "source": [
    "# 爬虫解析库XPath使用"
   ]
  },
  {
   "cell_type": "markdown",
   "metadata": {},
   "source": [
    "## 1.XPath简介"
   ]
  },
  {
   "cell_type": "markdown",
   "metadata": {},
   "source": [
    "> XPath 是一门在 XML 文档中查找信息的语言。XPath 用于在 XML 文档中通过元素和属性进行导航。XPath 使用路径表达式来选取 XML 文档中的节点或者节点集。这些路径表达式和我们在常规的电脑文件系统中看到的表达式非常相似。XPath 含有超过 100 个内建的函数。这些函数用于字符串值、数值、日期和时间比较、节点和 QName 处理、序列处理、逻辑值等等。XPath 是 XSLT 标准中的主要元素。如果没有 XPath 方面的知识，您就无法创建 XSLT 文档。XPath 于 1999 年 11 月 16 日 成为 W3C 标准。XPath 被设计为供 XSLT、XPointer 以及其他 XML 解析软件使用。"
   ]
  },
  {
   "cell_type": "markdown",
   "metadata": {},
   "source": [
    "## 2.XPath术语"
   ]
  },
  {
   "cell_type": "markdown",
   "metadata": {},
   "source": [
    "> **节点（Node）**在 XPath 中，有七种类型的节点：元素、属性、文本、命名空间、处理指令、注释以及文档（根）节点。XML 文档是被作为节点树来对待的。树的根被称为文档节点或者根节点。<br>**节点关系**:父（Parent）、子（Children）、同胞（Sibling）、先辈（Ancestor）、后代（Descendant）共五种。"
   ]
  },
  {
   "cell_type": "markdown",
   "metadata": {},
   "source": [
    "## 3.XPath常用规则"
   ]
  },
  {
   "cell_type": "markdown",
   "metadata": {},
   "source": [
    "|表达式|描述|\n",
    "|:---:|:---:|\n",
    "|nodename|选取此节点的所有节点|\n",
    "|/|从当前节点选取直接子节点|\n",
    "|//|从当前节点选取子孙节点|\n",
    "|.|选取当前节点|\n",
    "|..|选取当前节点的父节点|\n",
    "|@|选取属性|\n",
    "\n",
    "|通配符|描述|\n",
    "|:---:|:---:|\n",
    "|* |匹配任何元素节点|\n",
    "|@* |匹配任何属性节点|\n",
    "|node()|匹配任何类型的节点|"
   ]
  },
  {
   "cell_type": "markdown",
   "metadata": {},
   "source": [
    "## 4.示例"
   ]
  },
  {
   "cell_type": "code",
   "execution_count": 55,
   "metadata": {},
   "outputs": [
    {
     "name": "stdout",
     "output_type": "stream",
     "text": [
      "<html><body><div>\n",
      "<ul>\n",
      "<li class=\"item-0\"><a href=\"link1.html\">first item</a></li>\n",
      "<li class=\"item-1\"><a href=\"link2.html\">second item</a></li>\n",
      "<li class=\"item-inactive\"><a href=\"link3.html\">third item</a></li>\n",
      "<li class=\"item-1\"><a href=\"link4.html\">fourth item</a></li>\n",
      "<li class=\"item-0\"><a href=\"link5.html\">fifth item</a>\n",
      "</li></ul>\n",
      "</div>\n",
      "</body></html>\n"
     ]
    }
   ],
   "source": [
    "from lxml import etree    #导入lxml库的etree模块\n",
    "text='''<div>\n",
    "<ul>\n",
    "<li class=\"item-0\"><a href=\"link1.html\">first item</a></li>\n",
    "<li class=\"item-1\"><a href=\"link2.html\">second item</a></li>\n",
    "<li class=\"item-inactive\"><a href=\"link3.html\">third item</a></li>\n",
    "<li class=\"item-1\"><a href=\"link4.html\">fourth item</a></li>\n",
    "<li class=\"item-0\"><a href=\"link5.html\">fifth item</a>\n",
    "</ul>\n",
    "</div>\n",
    "'''\n",
    "html = etree.HTML(text)    #调用HTML类进行初始化，构造一个XPath解析对象\n",
    "result= etree.tostring(html)    #例如最后一个li节点没有闭合。tostring()方法输出自动修正后的HTML代码，但是结果是bytes类型。需利用decode()方法将其转成str类型\n",
    "print(result.decode('utf-8'))"
   ]
  },
  {
   "cell_type": "markdown",
   "metadata": {},
   "source": [
    "### 另外，可直接读取文本进行解析"
   ]
  },
  {
   "cell_type": "code",
   "execution_count": 27,
   "metadata": {},
   "outputs": [
    {
     "name": "stdout",
     "output_type": "stream",
     "text": [
      "<!DOCTYPE html PUBLIC \"-//W3C//DTD HTML 4.0 Transitional//EN\" \"http://www.w3.org/TR/REC-html40/loose.dtd\">\n",
      "<html><body><div>\n",
      "<ul>\n",
      "<li class=\"item-0\"><a href=\"link1.html\">first item</a></li>\n",
      "<li class=\"item-1\"><a href=\"link2.html\">second item</a></li>\n",
      "<li class=\"item-inactive\"><a href=\"link3.html\">third item</a></li>\n",
      "<li class=\"item-1\"><a href=\"link4.html\">fourth item</a></li>\n",
      "<li class=\"item-0\"><a href=\"link5.html\">fifth item</a>\n",
      "</li></ul>\n",
      "</div>\n",
      "</body></html>\n"
     ]
    }
   ],
   "source": [
    "from lxml import etree    \n",
    "html = etree.parse('./test.html',etree.HTMLParser())   #test.html内容就是上面例子中的HTML代码，parse()方法读取文本进行解析\n",
    "result = etree.tostring(html)\n",
    "print(result.decode('utf-8'))"
   ]
  },
  {
   "cell_type": "code",
   "execution_count": 29,
   "metadata": {},
   "outputs": [],
   "source": [
    "from lxml import etree    \n",
    "html = etree.parse('./test.html',etree.HTMLParser())"
   ]
  },
  {
   "cell_type": "markdown",
   "metadata": {},
   "source": [
    "### 匹配所有节点"
   ]
  },
  {
   "cell_type": "code",
   "execution_count": 30,
   "metadata": {},
   "outputs": [
    {
     "name": "stdout",
     "output_type": "stream",
     "text": [
      "[<Element html at 0x11185a4b0>, <Element body at 0x11185ab40>, <Element div at 0x11185abe0>, <Element ul at 0x11185adc0>, <Element li at 0x11185ae10>, <Element a at 0x11185af50>, <Element li at 0x11185ac30>, <Element a at 0x112344780>, <Element li at 0x112344820>, <Element a at 0x112344280>, <Element li at 0x112344370>, <Element a at 0x1123440a0>, <Element li at 0x1123440f0>, <Element a at 0x112344140>]\n"
     ]
    }
   ],
   "source": [
    "result = html.xpath('//*') \n",
    "print(result)"
   ]
  },
  {
   "cell_type": "markdown",
   "metadata": {},
   "source": [
    "### 匹配子节点"
   ]
  },
  {
   "cell_type": "code",
   "execution_count": 34,
   "metadata": {},
   "outputs": [
    {
     "name": "stdout",
     "output_type": "stream",
     "text": [
      "[<Element a at 0x111c68a00>, <Element a at 0x111c68d70>, <Element a at 0x111c68e10>, <Element a at 0x111c68f00>, <Element a at 0x111c68f50>]\n",
      "[<Element a at 0x111c68a00>, <Element a at 0x111c68d70>, <Element a at 0x111c68e10>, <Element a at 0x111c68f00>, <Element a at 0x111c68f50>]\n"
     ]
    }
   ],
   "source": [
    "result = html.xpath('//li/a')    #li节点下的所有直接a子节点\n",
    "print(result)\n",
    "result = html.xpath('//ul//a')    #ul节点下的所有子孙a节点\n",
    "print(result)"
   ]
  },
  {
   "cell_type": "markdown",
   "metadata": {},
   "source": [
    "### 父节点"
   ]
  },
  {
   "cell_type": "code",
   "execution_count": 36,
   "metadata": {},
   "outputs": [
    {
     "name": "stdout",
     "output_type": "stream",
     "text": [
      "[<Element li at 0x112368e10>]\n",
      "['item-1']\n"
     ]
    }
   ],
   "source": [
    "result = html.xpath('//a[@href=\"link4.html\"]/..')    #获取href属性为link4.html的a节点的父节点\n",
    "print(result)\n",
    "result = html.xpath('//a[@href=\"link4.html\"]/../@class')     #获取href属性为link4.html的a节点的父节点，再获取其class属性\n",
    "print(result)"
   ]
  },
  {
   "cell_type": "markdown",
   "metadata": {},
   "source": [
    "### 属性匹配"
   ]
  },
  {
   "cell_type": "code",
   "execution_count": 37,
   "metadata": {},
   "outputs": [
    {
     "name": "stdout",
     "output_type": "stream",
     "text": [
      "[<Element li at 0x112368fa0>, <Element li at 0x112368b90>]\n"
     ]
    }
   ],
   "source": [
    "result = html.xpath('//li[@class=\"item-0\"]')    #获取class属性为item-0的li节点\n",
    "print(result)"
   ]
  },
  {
   "cell_type": "markdown",
   "metadata": {},
   "source": [
    "### 文本获取"
   ]
  },
  {
   "cell_type": "code",
   "execution_count": 40,
   "metadata": {},
   "outputs": [
    {
     "name": "stdout",
     "output_type": "stream",
     "text": [
      "['first item', 'fifth item', '\\n']\n",
      "['first item', 'fifth item']\n"
     ]
    }
   ],
   "source": [
    "result = html.xpath('//li[@class=\"item-0\"]//text()')    #获取class属性为item-0的li节点中子孙节点内部的所有文本：//text()\n",
    "print(result)\n",
    "result = html.xpath('//li[@class=\"item-0\"]/a/text()')    #获取class属性为item-0的li节点中的特定子孙a节点中所有文本：/text()\n",
    "print(result)"
   ]
  },
  {
   "cell_type": "markdown",
   "metadata": {},
   "source": [
    "### 属性获取"
   ]
  },
  {
   "cell_type": "code",
   "execution_count": 42,
   "metadata": {},
   "outputs": [
    {
     "name": "stdout",
     "output_type": "stream",
     "text": [
      "['link1.html', 'link2.html', 'link3.html', 'link4.html', 'link5.html']\n"
     ]
    }
   ],
   "source": [
    "result = html.xpath('//li/a/@href')    #通过@href获取节点的href属性\n",
    "print(result)"
   ]
  },
  {
   "cell_type": "markdown",
   "metadata": {},
   "source": [
    "### 属性多值匹配"
   ]
  },
  {
   "cell_type": "code",
   "execution_count": 50,
   "metadata": {},
   "outputs": [
    {
     "name": "stdout",
     "output_type": "stream",
     "text": [
      "['first item']\n",
      "['first item']\n"
     ]
    }
   ],
   "source": [
    "from lxml import etree    \n",
    "text  = '''\n",
    "<li class=\"li li-first\"><a href=\"link1.html\">first item</a></li>\n",
    "'''\n",
    "html = etree.HTML(text) \n",
    "\n",
    "result = html.xpath('//li[@class=\"li li-first\"]/a/text()')    \n",
    "print(result)\n",
    "\n",
    "result = html.xpath('//li[contains(@class,\"li\")]/a/text()')    #通过contains()方法获取节点的href属性，第一个参数传入属性名称，第二个参数传入属性值\n",
    "print(result)"
   ]
  },
  {
   "cell_type": "markdown",
   "metadata": {},
   "source": [
    "### 多属性匹配"
   ]
  },
  {
   "cell_type": "code",
   "execution_count": 52,
   "metadata": {},
   "outputs": [
    {
     "name": "stdout",
     "output_type": "stream",
     "text": [
      "['first item']\n"
     ]
    }
   ],
   "source": [
    "from lxml import etree    \n",
    "text  = '''\n",
    "<li class=\"li li-first\" name=\"item\"><a href=\"link1.html\">first item</a></li>\n",
    "'''\n",
    "html = etree.HTML(text) \n",
    "\n",
    "result = html.xpath('//li[contains(@class,\"li\") and @name=\"item\"]/a/text()')    #使用运算符and连接\n",
    "print(result)"
   ]
  },
  {
   "cell_type": "markdown",
   "metadata": {},
   "source": [
    "#### 拓展：XPath中的运算符 https://www.w3school.com.cn/xpath/xpath_operators.asp"
   ]
  },
  {
   "cell_type": "markdown",
   "metadata": {},
   "source": [
    "### 按序选择"
   ]
  },
  {
   "cell_type": "code",
   "execution_count": 53,
   "metadata": {},
   "outputs": [
    {
     "name": "stdout",
     "output_type": "stream",
     "text": [
      "['first item']\n",
      "['fifth item']\n",
      "['first item', 'second item']\n",
      "['third item']\n"
     ]
    }
   ],
   "source": [
    "from lxml import etree\n",
    "\n",
    "text = '''\n",
    "<div>\n",
    "<ul>\n",
    "<li class=\"item-0\"><a href=\"link1.html\">first item</a></li>\n",
    "<li class=\"item-1\"><a href=\"link2.html\">second item</a></li>\n",
    "<li class=\"item-inactive\"><a href=\"link3.html\">third item</a></li>\n",
    "<li class=\"item-1\"><a href=\"link4.html\">fourth item</a></li>\n",
    "<li class=\"item-0\"><a href=\"link5.html\">fifth item</a>\n",
    "</ul>\n",
    "</div>\n",
    "'''\n",
    "\n",
    "html = etree.HTML(text)\n",
    "# 获取第一个\n",
    "result = html.xpath('//li[1]/a/text()')\n",
    "print(result)\n",
    "# 获取最后一个\n",
    "result = html.xpath('//li[last()]/a/text()')\n",
    "print(result)\n",
    "# 获取前两个\n",
    "result = html.xpath('//li[position()<3]/a/text()')\n",
    "print(result)\n",
    "# 获取倒数第三个\n",
    "result = html.xpath('//li[last()-2]/a/text()')\n",
    "print(result)"
   ]
  },
  {
   "cell_type": "markdown",
   "metadata": {},
   "source": [
    "### 节点轴选择"
   ]
  },
  {
   "cell_type": "code",
   "execution_count": 65,
   "metadata": {},
   "outputs": [
    {
     "name": "stdout",
     "output_type": "stream",
     "text": [
      "[<Element html at 0x111afc730>, <Element body at 0x111e79960>, <Element div at 0x111afc870>, <Element ul at 0x111afcf00>]\n",
      "[<Element div at 0x111afc870>]\n",
      "['item-0']\n",
      "[<Element a at 0x111879af0>]\n",
      "[<Element span at 0x111e79960>]\n",
      "[<Element a at 0x110e182d0>]\n",
      "[<Element li at 0x111e79960>, <Element li at 0x111879af0>, <Element li at 0x111879f00>, <Element li at 0x111879fa0>]\n"
     ]
    }
   ],
   "source": [
    "from lxml import etree\n",
    "\n",
    "text = '''\n",
    "<div>\n",
    "<ul>\n",
    "<li class=\"item-0\"><a href=\"link1.html\"><span>first item</span></a></li>\n",
    "<li class=\"item-1\"><a href=\"link2.html\">second item</a></li>\n",
    "<li class=\"item-inactive\"><a href=\"link3.html\">third item</a></li>\n",
    "<li class=\"item-1\"><a href=\"link4.html\">fourth item</a></li>\n",
    "<li class=\"item-0\"><a href=\"link5.html\">fifth item</a>\n",
    "</ul>\n",
    "</div>\n",
    "'''\n",
    "\n",
    "html = etree.HTML(text)\n",
    "# 获取所有祖先节点\n",
    "result = html.xpath('//li[1]/ancestor::*')\n",
    "print(result)\n",
    "# 获取 div 祖先节点\n",
    "result = html.xpath('//li[1]/ancestor::div')\n",
    "print(result)\n",
    "# 获取当前节点所有属性值\n",
    "result = html.xpath('//li[1]/attribute::*')\n",
    "print(result)\n",
    "# 获取 href 属性值为 link1.html 的直接子节点\n",
    "result = html.xpath('//li[1]/child::a[@href=\"link1.html\"]')\n",
    "print(result)\n",
    "# 获取所有的的子孙节点中包含 span 节点但不包含 a 节点\n",
    "result = html.xpath('//li[1]/descendant::span')\n",
    "print(result)\n",
    "# 获取当前所有节点之后的第二个节点\n",
    "result = html.xpath('//li[1]/following::*[2]')\n",
    "print(result)\n",
    "# 获取当前节点之后的所有同级节点\n",
    "result = html.xpath('//li[1]/following-sibling::*')\n",
    "print(result)"
   ]
  },
  {
   "cell_type": "markdown",
   "metadata": {},
   "source": [
    "### 实战中常用获取下一页链接："
   ]
  },
  {
   "cell_type": "code",
   "execution_count": 95,
   "metadata": {},
   "outputs": [
    {
     "name": "stdout",
     "output_type": "stream",
     "text": [
      "['index_shopping_dianshang_2.html']\n",
      "['index_shopping_dianshang_2.html']\n",
      "['index_shopping_dianshang_2.html']\n",
      "[<Element div at 0x111880410>]\n"
     ]
    }
   ],
   "source": [
    "from lxml import etree\n",
    "\n",
    "text = '''\n",
    "<div class=\"ListPageWrap\">\n",
    "    <a href=\"javascript:void(0);\"> &lt; </a>\n",
    "    <a class=\"Pagecurt\" href=\"index_shopping_dianshang.html\">1</a>\n",
    "    <a href=\"index_shopping_dianshang_2.html\">2</a>\n",
    "    <a href=\"index_shopping_dianshang_3.html\">3</a>\n",
    "    <a href=\"index_shopping_dianshang_4.html\">4</a>\n",
    "    <a href=\"index_shopping_dianshang_5.html\">5</a>\n",
    "    <a href=\"index_shopping_dianshang_6.html\">6</a>\n",
    "    <a href=\"index_shopping_dianshang_7.html\">7</a>\n",
    "    <a href=\"index_shopping_dianshang_8.html\">8</a>\n",
    "    <span>...</span><a href=\"index_shopping_dianshang_64.html\">64</a>\n",
    "    <a href=\"index_shopping_dianshang_2.html\">下一页</a>\n",
    "</div>\n",
    "'''\n",
    "html = etree.HTML(text)\n",
    "#方法一\n",
    "result = html.xpath('//div[@class=\"ListPageWrap\"]/a[contains(.,\"下一页\")]/@href')\n",
    "print(result)\n",
    "\n",
    "#方法二\n",
    "result = html.xpath('//div[@class=\"ListPageWrap\"]/a[contains(text(),\"下一页\")]/@href')\n",
    "print(result)\n",
    "\n",
    "#方法三\n",
    "result = html.xpath('//div[@class=\"ListPageWrap\"]/a[text()=\"下一页\"]/@href')\n",
    "print(result)\n",
    "result = html.xpath('//div')\n",
    "print(result)"
   ]
  },
  {
   "cell_type": "markdown",
   "metadata": {},
   "source": [
    "### 参考文档\n",
    ">XPath 的用法：http://www.w3school.com.cn/xpath/index.asp"
   ]
  }
 ],
 "metadata": {
  "kernelspec": {
   "display_name": "Python 3",
   "language": "python",
   "name": "python3"
  },
  "language_info": {
   "codemirror_mode": {
    "name": "ipython",
    "version": 3
   },
   "file_extension": ".py",
   "mimetype": "text/x-python",
   "name": "python",
   "nbconvert_exporter": "python",
   "pygments_lexer": "ipython3",
   "version": "3.7.4"
  }
 },
 "nbformat": 4,
 "nbformat_minor": 2
}
