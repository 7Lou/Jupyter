{
 "cells": [
  {
   "cell_type": "code",
   "execution_count": 1,
   "metadata": {},
   "outputs": [
    {
     "name": "stdout",
     "output_type": "stream",
     "text": [
      "Threading MainThread is running\n",
      "Threading Thread-4 is running\n",
      "Threading Thread-4 sleep 1s\n",
      "Threading Thread-5 is runningThreading MainThread is ended\n",
      "Threading Thread-5 sleep 5s\n",
      "\n",
      "Threading Thread-4 is ended\n",
      "Threading Thread-5 is ended\n"
     ]
    }
   ],
   "source": [
    "import threading\n",
    "import time\n",
    "\n",
    "def target(second):\n",
    "    print(f\"Threading {threading.current_thread().name} is running\")\n",
    "    print(f\"Threading {threading.current_thread().name} sleep {second}s\")\n",
    "    time.sleep(second)\n",
    "    print(f\"Threading {threading.current_thread().name} is ended\")\n",
    "    \n",
    "print(f\"Threading {threading.current_thread().name} is running\")\n",
    "\n",
    "for i in [1,5]:\n",
    "    t = threading.Thread(target=target,args=[i])\n",
    "    t.start()\n",
    "    \n",
    "print(f\"Threading {threading.current_thread().name} is ended\")"
   ]
  }
 ],
 "metadata": {
  "kernelspec": {
   "display_name": "Python 3",
   "language": "python",
   "name": "python3"
  },
  "language_info": {
   "codemirror_mode": {
    "name": "ipython",
    "version": 3
   },
   "file_extension": ".py",
   "mimetype": "text/x-python",
   "name": "python",
   "nbconvert_exporter": "python",
   "pygments_lexer": "ipython3",
   "version": "3.7.4"
  }
 },
 "nbformat": 4,
 "nbformat_minor": 2
}
