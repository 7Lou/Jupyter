{
 "cells": [
  {
   "cell_type": "markdown",
   "metadata": {},
   "source": [
    "# threading模块实现多线程的方法"
   ]
  },
  {
   "cell_type": "code",
   "execution_count": null,
   "metadata": {},
   "outputs": [],
   "source": []
  },
  {
   "cell_type": "code",
   "execution_count": null,
   "metadata": {},
   "outputs": [],
   "source": []
  },
  {
   "cell_type": "markdown",
   "metadata": {},
   "source": [
    "## 线程是最小的执行单元，而进程由至少一个线程组成。如何调度进程和线程，完全由操作系统决定，程序自己不能决定什么时候执行，执行多长时间。多进程和多线程的程序涉及到同步、数据共享的问题，编写起来更复杂。"
   ]
  },
  {
   "cell_type": "markdown",
   "metadata": {},
   "source": [
    "多线程就是在一个进程中同时执行多个线程，尤其对于网络爬虫这种 IO 密集型任务来说，使用多线程会大大提高程序整体的爬取效率。在 Python 中，实现多线程的模块叫作 threading，是 Python 自带的模块。"
   ]
  },
  {
   "cell_type": "markdown",
   "metadata": {},
   "source": [
    "## 方法一：直接创建子线程"
   ]
  },
  {
   "cell_type": "code",
   "execution_count": 57,
   "metadata": {},
   "outputs": [
    {
     "name": "stdout",
     "output_type": "stream",
     "text": [
      "Threading MainThread is running\n",
      "Threading Thread-149 is running\n",
      "Threading Thread-149 sleep 1s\n",
      "Threading Thread-150 is running\n",
      "Threading Thread-150 sleep 5s\n",
      "Threading MainThread is ended\n",
      "Threading Thread-149 is ended\n",
      "Threading Thread-150 is ended\n"
     ]
    }
   ],
   "source": [
    "import threading\n",
    "import time\n",
    "\n",
    "def target(second):\n",
    "    print(f\"Threading {threading.current_thread().name} is running\")\n",
    "    print(f\"Threading {threading.current_thread().name} sleep {second}s\")\n",
    "    time.sleep(second)\n",
    "    print(f\"Threading {threading.current_thread().name} is ended\")\n",
    "    \n",
    "print(f\"Threading {threading.current_thread().name} is running\")\n",
    "\n",
    "for i in [1,5]:\n",
    "    t = threading.Thread(target=target,args=[i])\n",
    "    t.start()\n",
    "    \n",
    "print(f\"Threading {threading.current_thread().name} is ended\")\n",
    "    "
   ]
  },
  {
   "cell_type": "code",
   "execution_count": 12,
   "metadata": {},
   "outputs": [
    {
     "name": "stdout",
     "output_type": "stream",
     "text": [
      "Threading MainThread is running\n",
      "Threading Thread-14 is running\n",
      "Threading Thread-14 sleep 1s\n",
      "Threading Thread-14 is ended\n",
      "Threading Thread-15 is running\n",
      "Threading Thread-15 sleep 5s\n",
      "Threading Thread-15 is ended\n",
      "Threading MainThread is ended\n"
     ]
    }
   ],
   "source": [
    "import threading\n",
    "import time\n",
    "\n",
    "def target(second):\n",
    "    print(f\"Threading {threading.current_thread().name} is running\")\n",
    "    print(f\"Threading {threading.current_thread().name} sleep {second}s\")\n",
    "    time.sleep(second)\n",
    "    print(f\"Threading {threading.current_thread().name} is ended\")\n",
    "    \n",
    "print(f\"Threading {threading.current_thread().name} is running\")\n",
    "\n",
    "for i in [1,5]:\n",
    "    t = threading.Thread(target=target,args=[i])\n",
    "    t.start()\n",
    "    t.join() #调用join方法，主线程就会等待各个子线程执行完毕再退出\n",
    "    \n",
    "print(f\"Threading {threading.current_thread().name} is ended\")"
   ]
  },
  {
   "cell_type": "markdown",
   "metadata": {},
   "source": [
    "## 方法二：继承 Thread 类创建子线程"
   ]
  },
  {
   "cell_type": "code",
   "execution_count": 23,
   "metadata": {},
   "outputs": [
    {
     "name": "stdout",
     "output_type": "stream",
     "text": [
      "Threading MainThread is running\n",
      "Threading Thread-36 is running\n",
      "Threading Thread-36 sleep 1s\n",
      "Threading Thread-36 is ended\n",
      "Threading Thread-37 is running\n",
      "Threading Thread-37 sleep 5s\n",
      "Threading Thread-37 is ended\n",
      "Threading MainThread is ended\n"
     ]
    }
   ],
   "source": [
    "import threading\n",
    "import time\n",
    "\n",
    "class MyThread(threading.Thread):\n",
    "    def __init__(self,second):\n",
    "        threading.Thread.__init__(self)\n",
    "        self.second = second\n",
    "    \n",
    "    def run(self):\n",
    "        print(f\"Threading {threading.current_thread().name} is running\")\n",
    "        print(f\"Threading {threading.current_thread().name} sleep {self.second}s\")\n",
    "        time.sleep(self.second)\n",
    "        print(f\"Threading {threading.current_thread().name} is ended\")\n",
    "\n",
    "print(f\"Threading {threading.current_thread().name} is running\")\n",
    "\n",
    "for i in [1,5]:\n",
    "    t = MyThread(i)\n",
    "    t.start()\n",
    "    t.join()\n",
    "\n",
    "print(f\"Threading {threading.current_thread().name} is ended\")"
   ]
  },
  {
   "cell_type": "markdown",
   "metadata": {},
   "source": [
    "## 实践："
   ]
  },
  {
   "cell_type": "markdown",
   "metadata": {},
   "source": [
    "\n",
    "函数fork()调用，把当前进程（称为父进程）复制了一份（称为子进程），然后，分别在父进程和子进程内返回。子进程永远返回0，而父进程返回子进程的ID。这样做的理由是，一个父进程可以fork出很多子进程，所以，父进程要记下每个子进程的ID，而子进程只需要调用getppid()获取父进程的ID。getpid()获取进程自己的ID。Python的os模块封装了常见的系统调用，其中就包括fork，可以在Python程序中轻松创建子进程。"
   ]
  },
  {
   "cell_type": "markdown",
   "metadata": {},
   "source": [
    "**Unix/Linux操作系统有fork系统调用，Windows无。**"
   ]
  },
  {
   "cell_type": "code",
   "execution_count": 83,
   "metadata": {},
   "outputs": [
    {
     "name": "stdout",
     "output_type": "stream",
     "text": [
      "Process 57370start...\n",
      "I 57370 just created a child process 61360.\n",
      "I am child process 61360and my parent is 57370.\n"
     ]
    }
   ],
   "source": [
    "import os\n",
    "\n",
    "print(f'Process {os.getpid()}start...')\n",
    "# Only works on Unix/Linux/Mac:\n",
    "pid = os.fork()\n",
    "if pid == 0:\n",
    "    print(f'I am child process {os.getpid()}and my parent is {os.getppid()}.' )\n",
    "else:\n",
    "    print(f'I {os.getpid()} just created a child process {pid}.' )"
   ]
  },
  {
   "cell_type": "markdown",
   "metadata": {},
   "source": [
    "**multiprocessing模块就是跨平台版本的多进程模块，其提供了一个Process类来代表一个进程对象**"
   ]
  },
  {
   "cell_type": "code",
   "execution_count": 85,
   "metadata": {},
   "outputs": [
    {
     "name": "stdout",
     "output_type": "stream",
     "text": [
      "Parent process 57370.\n",
      "Child process will start.\n",
      "Run child process test 61434...\n",
      "Child process end.\n"
     ]
    }
   ],
   "source": [
    "from multiprocessing import Process\n",
    "import os\n",
    "\n",
    "# 子进程要执行的代码\n",
    "def run_proc(name):\n",
    "    print(f'Run child process {name} {os.getpid()}...')\n",
    "if __name__=='__main__':\n",
    "    print(f'Parent process {os.getpid()}.')\n",
    "    p = Process(target=run_proc, args=('test',))\n",
    "    print('Child process will start.')\n",
    "    p.start()\n",
    "    p.join()\n",
    "    print('Child process end.')"
   ]
  },
  {
   "cell_type": "markdown",
   "metadata": {},
   "source": [
    "创建子进程时，只需要传入一个执行函数和函数的参数，创建一个Process实例，用start()方法启动，这样创建进程比fork()还要简单。\n",
    "join()方法可以等待子进程结束后再继续往下运行，通常用于进程间的同步。"
   ]
  },
  {
   "cell_type": "markdown",
   "metadata": {},
   "source": [
    "**Pool\n",
    "如果要启动大量的子进程，可以用进程池的方式批量创建子进程：**"
   ]
  },
  {
   "cell_type": "code",
   "execution_count": 93,
   "metadata": {},
   "outputs": [
    {
     "name": "stdout",
     "output_type": "stream",
     "text": [
      "Parent process 57370.\n",
      "Run task 1 61572...\n",
      "Run task 0 61571...\n",
      "Run task 2 61573...\n",
      "Run task 3 61574...\n",
      "Waiting for all subprocesses done...\n",
      "Task 0 runs 0.17 seconds.\n",
      "Run task 4 61571...\n",
      "Task 3 runs 1.55 seconds.\n",
      "Task 1 runs 1.82 seconds.\n",
      "Task 4 runs 2.21 seconds.\n",
      "Task 2 runs 2.89 seconds.\n",
      "All subprocesses done.\n"
     ]
    }
   ],
   "source": [
    "from multiprocessing import Pool\n",
    "import os, time, random\n",
    "\n",
    "def long_time_task(name):\n",
    "    print(f'Run task {name} {os.getpid()}...' )\n",
    "    start = time.time()\n",
    "    time.sleep(random.random() * 3)\n",
    "    end = time.time()\n",
    "    print(f'Task {name} runs {(end - start):.2f} seconds.' )\n",
    "\n",
    "if __name__=='__main__':\n",
    "    print(f'Parent process {os.getpid()}.')\n",
    "    p = Pool(4)\n",
    "    for i in range(5):\n",
    "        p.apply_async(long_time_task, args=(i,))\n",
    "    print('Waiting for all subprocesses done...')\n",
    "    p.close()\n",
    "    p.join()\n",
    "    print('All subprocesses done.')"
   ]
  },
  {
   "cell_type": "markdown",
   "metadata": {},
   "source": [
    "*对Pool对象调用join()方法会等待所有子进程执行完毕，调用join()之前必须先调用close()，调用close()之后就不能继续添加新的Process了。*"
   ]
  },
  {
   "cell_type": "markdown",
   "metadata": {},
   "source": [
    "**子进程**<br>\n",
    "很多时候，子进程并不是自身，而是一个外部进程。我们创建了子进程后，还需要控制子进程的输入和输出。subprocess模块可以让我们非常方便地启动一个子进程，然后控制其输入和输出。\n",
    "下面的例子演示了如何在Python代码中运行命令nslookup www.python.org ，这和命令行直接运行的效果是一样的。"
   ]
  },
  {
   "cell_type": "code",
   "execution_count": 111,
   "metadata": {},
   "outputs": [
    {
     "name": "stdout",
     "output_type": "stream",
     "text": [
      "$ nslookup www.python.org\n",
      "Exit code: 0\n"
     ]
    }
   ],
   "source": [
    "import subprocess\n",
    "\n",
    "print('$ nslookup www.python.org')\n",
    "r = subprocess.call(['nslookup', 'www.python.org'])\n",
    "print('Exit code:', r)"
   ]
  },
  {
   "cell_type": "markdown",
   "metadata": {},
   "source": [
    "如果子进程还需要输入，则可以通过communicate()方法输入："
   ]
  },
  {
   "cell_type": "code",
   "execution_count": 109,
   "metadata": {},
   "outputs": [
    {
     "name": "stdout",
     "output_type": "stream",
     "text": [
      "$ nslookup\n",
      "Server:\t\t192.168.200.1\n",
      "Address:\t192.168.200.1#53\n",
      "\n",
      "Non-authoritative answer:\n",
      "python.org\tmail exchanger = 50 mail.python.org.\n",
      "\n",
      "Authoritative answers can be found from:\n",
      "org\tnameserver = b0.org.afilias-nst.org.\n",
      "org\tnameserver = c0.org.afilias-nst.info.\n",
      "org\tnameserver = a2.org.afilias-nst.info.\n",
      "org\tnameserver = a0.org.afilias-nst.info.\n",
      "org\tnameserver = d0.org.afilias-nst.org.\n",
      "org\tnameserver = b2.org.afilias-nst.org.\n",
      "mail.python.org\tinternet address = 188.166.95.178\n",
      "a0.org.afilias-nst.info\tinternet address = 199.19.56.1\n",
      "a0.org.afilias-nst.info\thas AAAA address 2001:500:e::1\n",
      "a2.org.afilias-nst.info\tinternet address = 199.249.112.1\n",
      "a2.org.afilias-nst.info\thas AAAA address 2001:500:40::1\n",
      "b0.org.afilias-nst.org\tinternet address = 199.19.54.1\n",
      "b0.org.afilias-nst.org\thas AAAA address 2001:500:c::1\n",
      "b2.org.afilias-nst.org\tinternet address = 199.249.120.1\n",
      "b2.org.afilias-nst.org\thas AAAA address 2001:500:48::1\n",
      "c0.org.afilias-nst.info\tinternet address = 199.19.53.1\n",
      "c0.org.afilias-nst.info\thas AAAA address 2001:500:b::1\n",
      "d0.org.afilias-nst.org\tinternet address = 199.19.57.1\n",
      "d0.org.afilias-nst.org\thas AAAA address 2001:500:f::1\n",
      "\n",
      "\n",
      "Exit code: 0\n"
     ]
    }
   ],
   "source": [
    "import subprocess\n",
    "\n",
    "print('$ nslookup')\n",
    "p = subprocess.Popen(['nslookup'], stdin=subprocess.PIPE, stdout=subprocess.PIPE, stderr=subprocess.PIPE)\n",
    "output, err = p.communicate(b'set q=mx\\npython.org\\nexit\\n')\n",
    "print(output.decode('utf-8'))\n",
    "print('Exit code:', p.returncode)"
   ]
  },
  {
   "cell_type": "markdown",
   "metadata": {},
   "source": [
    "**进程间通信**<br>\n",
    "Process之间肯定是需要通信的，操作系统提供了很多机制来实现进程间的通信。Python的multiprocessing模块包装了底层的机制，提供了Queue、Pipes等多种方式来交换数据。"
   ]
  },
  {
   "cell_type": "code",
   "execution_count": 118,
   "metadata": {},
   "outputs": [
    {
     "name": "stdout",
     "output_type": "stream",
     "text": [
      "Process to write: 61978\n",
      "Put A to queue...\n",
      "Process to write: 61979\n",
      "Get A to queue...\n",
      "Put B to queue...\n",
      "Get B to queue...\n",
      "Put C to queue...\n",
      "Get C to queue...\n"
     ]
    }
   ],
   "source": [
    "from multiprocessing import Process, Queue\n",
    "import os, time, random\n",
    "\n",
    "# 写数据进程执行的代码:\n",
    "def write(q):\n",
    "    print(f'Process to write: {os.getpid()}')\n",
    "    for value in ['A', 'B', 'C']:\n",
    "        print(f'Put {value} to queue...')\n",
    "        q.put(value)\n",
    "        time.sleep(random.random())\n",
    "\n",
    "# 读数据进程执行的代码:\n",
    "def read(q):\n",
    "    print(f'Process to write: {os.getpid()}')\n",
    "    while True:\n",
    "        value = q.get(True)\n",
    "        print(f'Get {value} to queue...')\n",
    "        \n",
    "if __name__=='__main__':\n",
    "    # 父进程创建Queue，并传给各个子进程：\n",
    "    q = Queue()\n",
    "    pw = Process(target=write, args=(q,))\n",
    "    pr = Process(target=read, args=(q,))\n",
    "    # 启动子进程pw，写入:\n",
    "    pw.start()\n",
    "    # 启动子进程pr，读取:\n",
    "    pr.start()\n",
    "    # 等待pw结束:\n",
    "    pw.join()\n",
    "    # pr进程里是死循环，无法等待其结束，只能强行终止:\n",
    "    pr.terminate()"
   ]
  },
  {
   "cell_type": "markdown",
   "metadata": {},
   "source": [
    "multiprocessing还提供了几个比较有用的方法，如我们可以通过cpu_count的方法来获取当前机器CPU的核心数量，通过active_children方法获取当前还在运行的所有进程。"
   ]
  },
  {
   "cell_type": "code",
   "execution_count": 116,
   "metadata": {},
   "outputs": [
    {
     "name": "stdout",
     "output_type": "stream",
     "text": [
      "cpu number:4\n",
      "process:[]\n"
     ]
    }
   ],
   "source": [
    "from multiprocessing import cpu_count,active_children\n",
    "\n",
    "print(f'cpu number:{cpu_count()}')\n",
    "print(f'process:{active_children()}')"
   ]
  },
  {
   "cell_type": "markdown",
   "metadata": {},
   "source": [
    "## 多任务可以由多进程完成，也可以由一个进程内的多线程完成。threading模块实现。启动一个线程就是把一个函数传入并创建Thread实例，然后调用start()开始执行："
   ]
  },
  {
   "cell_type": "code",
   "execution_count": 120,
   "metadata": {},
   "outputs": [
    {
     "name": "stdout",
     "output_type": "stream",
     "text": [
      "thread MainThread is running...\n",
      "thread LoopThread is running...\n",
      "thread LoopThread >>> 1\n",
      "thread LoopThread >>> 2\n",
      "thread LoopThread >>> 3\n",
      "thread LoopThread >>> 4\n",
      "thread LoopThread >>> 5\n",
      "thread LoopThread ended.\n",
      "thread (threading.current_thread().name) ended.\n"
     ]
    }
   ],
   "source": [
    "import time, threading\n",
    "\n",
    "# 新线程执行的代码:\n",
    "def loop():\n",
    "    print(f'thread {threading.current_thread().name} is running...' )\n",
    "    n = 0\n",
    "    while n < 5:\n",
    "        n = n + 1\n",
    "        print(f'thread {threading.current_thread().name} >>> {n}' )\n",
    "        time.sleep(1)\n",
    "    print(f'thread {threading.current_thread().name} ended.' )\n",
    "\n",
    "print(f'thread {threading.current_thread().name} is running...')\n",
    "t = threading.Thread(target=loop, name='LoopThread')\n",
    "t.start()\n",
    "t.join()\n",
    "print(f'thread (threading.current_thread().name) ended.' )"
   ]
  },
  {
   "cell_type": "code",
   "execution_count": 145,
   "metadata": {},
   "outputs": [
    {
     "name": "stdout",
     "output_type": "stream",
     "text": [
      "0\n"
     ]
    }
   ],
   "source": [
    "import time, threading\n",
    "\n",
    "# 假定这是你的银行存款:\n",
    "balance = 0\n",
    "lock = threading.Lock()\n",
    "def change_it(n):\n",
    "    # 先存后取，结果应该为0:\n",
    "    global balance\n",
    "    balance = balance + n\n",
    "    balance = balance - n\n",
    "\n",
    "def run_thread(n):\n",
    "    for i in range(100000):\n",
    "        # 先要获取锁:\n",
    "        lock.acquire()\n",
    "        try:\n",
    "            # 放心地改吧:\n",
    "            change_it(n)\n",
    "        finally:\n",
    "            # 改完了一定要释放锁:\n",
    "            lock.release()\n",
    "        \n",
    "\n",
    "t1 = threading.Thread(target=run_thread, args=(5,))\n",
    "t2 = threading.Thread(target=run_thread, args=(8,))\n",
    "t1.start()\n",
    "t2.start()\n",
    "t1.join()\n",
    "t2.join()\n",
    "print(balance)"
   ]
  },
  {
   "cell_type": "code",
   "execution_count": 142,
   "metadata": {},
   "outputs": [],
   "source": [
    "balance = 0\n",
    "\n",
    "lock = threading.Lock()\n",
    "def run_thread(n):\n",
    "    for i in range(100000):\n",
    "        # 先要获取锁:\n",
    "        lock.acquire()\n",
    "        try:\n",
    "            # 放心地改吧:\n",
    "            change_it(n)\n",
    "        finally:\n",
    "            # 改完了一定要释放锁:\n",
    "            lock.release()"
   ]
  },
  {
   "cell_type": "code",
   "execution_count": null,
   "metadata": {},
   "outputs": [],
   "source": []
  }
 ],
 "metadata": {
  "kernelspec": {
   "display_name": "Python 3",
   "language": "python",
   "name": "python3"
  },
  "language_info": {
   "codemirror_mode": {
    "name": "ipython",
    "version": 3
   },
   "file_extension": ".py",
   "mimetype": "text/x-python",
   "name": "python",
   "nbconvert_exporter": "python",
   "pygments_lexer": "ipython3",
   "version": "3.7.4"
  }
 },
 "nbformat": 4,
 "nbformat_minor": 2
}
